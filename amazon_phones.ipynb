{
 "cells": [
  {
   "cell_type": "markdown",
   "metadata": {},
   "source": [
    "Importing Libraries"
   ]
  },
  {
   "cell_type": "code",
   "execution_count": 6,
   "metadata": {},
   "outputs": [],
   "source": [
    "from selenium import webdriver\n",
    "from selenium.webdriver.common.by import By\n",
    "from time import sleep\n",
    "from bs4 import BeautifulSoup\n",
    "import mysql.connector as mysql\n",
    "from tkinter import *"
   ]
  },
  {
   "cell_type": "markdown",
   "metadata": {},
   "source": [
    "Set path for Webdriver"
   ]
  },
  {
   "cell_type": "code",
   "execution_count": 7,
   "metadata": {},
   "outputs": [],
   "source": [
    "path = 'C://chromedriver.exe'"
   ]
  },
  {
   "cell_type": "code",
   "execution_count": 8,
   "metadata": {},
   "outputs": [
    {
     "name": "stderr",
     "output_type": "stream",
     "text": [
      "C:\\Users\\Samarth\\AppData\\Local\\Temp\\ipykernel_21200\\1818052580.py:2: DeprecationWarning: executable_path has been deprecated, please pass in a Service object\n",
      "  browser = webdriver.Chrome(executable_path = path)\n"
     ]
    }
   ],
   "source": [
    "# open the browser\n",
    "browser = webdriver.Chrome(executable_path = path)"
   ]
  },
  {
   "cell_type": "code",
   "execution_count": 9,
   "metadata": {},
   "outputs": [],
   "source": [
    "# load the webpage\n",
    "browser.get('https://www.amazon.in')"
   ]
  },
  {
   "cell_type": "code",
   "execution_count": 10,
   "metadata": {},
   "outputs": [],
   "source": [
    "# get the input elements\n",
    "input_search = browser.find_element(By.ID,'twotabsearchtextbox')\n",
    "search_button = browser.find_element(By.XPATH,\"(//input[@type='submit'])[1]\")"
   ]
  },
  {
   "cell_type": "code",
   "execution_count": 11,
   "metadata": {},
   "outputs": [],
   "source": [
    "# sending the input elements to the website\n",
    "input_search.send_keys(\"shoes for men\")\n",
    "sleep(1)\n",
    "search_button.click()\n",
    "page_source=browser.page_source\n"
   ]
  },
  {
   "cell_type": "markdown",
   "metadata": {},
   "source": [
    "Scarping Products from Amazon"
   ]
  },
  {
   "cell_type": "code",
   "execution_count": 12,
   "metadata": {},
   "outputs": [
    {
     "name": "stdout",
     "output_type": "stream",
     "text": [
      "product Title =  Bersache\n",
      "Total reviews =  0\n",
      "Overall rating =  3.6\n"
     ]
    }
   ],
   "source": [
    "soup=BeautifulSoup(page_source,'lxml')\n",
    "\n",
    "try:\n",
    "    # Outer Tag Object\n",
    "    title = soup.find(\"span\",attrs={'class': 'a-size-base-plus a-color-base'})\n",
    "\n",
    "    # Inner NavigableString Object\n",
    "    title_value = title.string\n",
    "\n",
    "    # Title as a string value\n",
    "    title_string = title_value.strip().replace(',', '')\n",
    "\n",
    "except AttributeError:\n",
    "    title_string = \"NA\"\n",
    "print(\"product Title = \",title_string)\n",
    "\n",
    "try:\n",
    "    review_count = soup.find(\"span\", attrs={'class': 'a-size-base puis-light-weight-text s-link-centralized-style'}).string.strip().replace(',', '')\n",
    "except AttributeError:\n",
    "    review_count = \"0\"\n",
    "print(\"Total reviews = \", review_count)\n",
    "\n",
    "try:\n",
    "        rating = soup.find(\"i\", attrs={'class': 'a-icon a-icon-star a-star-4-5'}).string.strip().replace(',', '')\n",
    " \n",
    "except AttributeError:\n",
    "    try:\n",
    "        rating = soup.find(\n",
    "                \"span\", attrs={'class': 'a-icon-alt'}).string.strip().replace(',', '')\n",
    "    except:\n",
    "            rating = \"NA\"\n",
    "    print(\"Overall rating = \", rating[0:3])\n",
    "        \n",
    "    "
   ]
  },
  {
   "cell_type": "markdown",
   "metadata": {},
   "source": [
    "Database Connectivity"
   ]
  },
  {
   "cell_type": "code",
   "execution_count": 13,
   "metadata": {},
   "outputs": [],
   "source": [
    "con= mysql.connect(host=\"localhost\", user=\"root\", password=\"Samarth@11\",database=\"python-tkinter\")\n",
    "cursor = con.cursor()\n",
    "cursor.execute(\"insert into amazon values('\"+title_string+\"','\"+review_count+\"','\"+rating[0:3]+\"')\")\n",
    "cursor. execute(\"commit\")"
   ]
  },
  {
   "cell_type": "markdown",
   "metadata": {},
   "source": [
    "GUI"
   ]
  },
  {
   "cell_type": "code",
   "execution_count": 14,
   "metadata": {},
   "outputs": [],
   "source": [
    "def show():\n",
    "    con= mysql.connect(host=\"localhost\", user=\"root\", password=\"Samarth@11\",database=\"python-tkinter\")\n",
    "    cursor = con.cursor()\n",
    "    cursor.execute(\"select * from amazon\")\n",
    "    rows=cursor.fetchall()\n",
    "\n",
    "    for row in rows:\n",
    "        insertData=str(row[0])+'            '+row[2]\n",
    "        list.insert(list.size()+1,insertData)\n",
    "    con.close()"
   ]
  },
  {
   "cell_type": "code",
   "execution_count": 15,
   "metadata": {},
   "outputs": [],
   "source": [
    "root = Tk()\n",
    "root.title(\"samarth\")\n",
    "root.geometry(\"300x300\")\n",
    "list= Listbox(root)\n",
    "list.place(x=50,y=50)\n",
    "show()\n",
    "root.mainloop()"
   ]
  }
 ],
 "metadata": {
  "kernelspec": {
   "display_name": "Python 3.10.2 64-bit",
   "language": "python",
   "name": "python3"
  },
  "language_info": {
   "codemirror_mode": {
    "name": "ipython",
    "version": 3
   },
   "file_extension": ".py",
   "mimetype": "text/x-python",
   "name": "python",
   "nbconvert_exporter": "python",
   "pygments_lexer": "ipython3",
   "version": "3.10.2"
  },
  "orig_nbformat": 4,
  "vscode": {
   "interpreter": {
    "hash": "5aeb194fbed38a29325e8c816257c354ee87a2fb755f862b722157ff925d8e61"
   }
  }
 },
 "nbformat": 4,
 "nbformat_minor": 2
}
